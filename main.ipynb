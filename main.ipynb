{
 "cells": [
  {
   "cell_type": "markdown",
   "metadata": {},
   "source": [
    "# Boids\n",
    "\n",
    "## What is Boids?\n",
    "\n",
    "> \"Boids\" are virtual entities that represent simplified models of collective behavior, particularly inspired by the flight of birds. The term \"boid\" is a shortening of \"bird-oid object.\"\n",
    "\n",
    "These models were introduced by computer scientist Craig Reynolds in 1986. The main idea behind boids is to simulate how a group of individual entities can exhibit complex and coordinated behaviors through the application of relatively simple interaction rules.\n",
    "\n",
    "The basic rules of interaction typically implemented in a boid system include:\n",
    "\n",
    "**Cohesion**: Boids tend to move towards the center of mass of the group.\n",
    "\n",
    "**Alignment**: Boids adjust their direction to align with the average direction of their nearby neighbors.\n",
    "\n",
    "**Separation**: Boids avoid collisions with each other, maintaining a minimum distance to prevent overcrowding.\n",
    "\n",
    "These simple rules, applied to each individual boid, generate emergent patterns of behavior in the group, such as flocking, coordinated turns, and obstacle avoidance. Boids are widely used in simulations of collective behavior in areas such as artificial intelligence, computer graphics, and complex systems simulations.\n"
   ]
  },
  {
   "cell_type": "markdown",
   "metadata": {},
   "source": [
    "## Objetives\n",
    "\n",
    "### Interaction Rules:\n",
    "\n",
    "Analyze how boids behave based on the interaction rules you have defined. Adjust parameters such as cohesion, alignment, and separation to observe how they influence collective behavior. Experimenting with these parameters allows you to fine-tune the simulated behavior of the flock.\n",
    "\n",
    "-   **Cohesion**: Explore how the tendency of boids to move towards the average position of their neighbors affects the overall cohesiveness of the flock. Adjusting cohesion parameters can lead to variations in how tightly or loosely the group stays together.\n",
    "\n",
    "-   **Alignment**: Investigate the impact of boids aligning their velocity with that of their neighbors. Adjusting alignment parameters allows you to observe changes in the directional coherence of the flock.\n",
    "\n",
    "-   **Separation**: Examine how the avoidance of collisions among boids influences the spacing within the flock. Modifying separation parameters can lead to variations in the density and distribution of the boids.\n",
    "\n",
    "### Environmental Impact:\n",
    "\n",
    "Evaluate how the environment influences the behavior of boids. Introduce obstacles, alterations in spatial topology, or external factors affecting flight patterns to gauge their impact on the simulated flock.\n",
    "\n",
    "-   **Obstacles**: Introducing obstacles will showcase how boids navigate around barriers. Observe changes in the flock's trajectory and spacing as they interact with the environment.\n",
    "\n",
    "-   **Spatial Topology Changes**: Altering the topological features of the simulated space, such as open spaces or confined areas, can lead to distinct behavioral patterns. Experiment with different spatial configurations to understand their effects on the flock.\n",
    "\n",
    "-   **External Factors**: Introduce external factors like wind, light, or other influences to observe how these elements affect the overall movement and coordination of the boids.\n"
   ]
  },
  {
   "cell_type": "markdown",
   "metadata": {},
   "source": [
    "## Implementation\n",
    "\n",
    "For the following implementation it is needed these bunch of libraries:\n"
   ]
  },
  {
   "cell_type": "code",
   "execution_count": 7,
   "metadata": {},
   "outputs": [
    {
     "name": "stdout",
     "output_type": "stream",
     "text": [
      "Defaulting to user installation because normal site-packages is not writeable\n",
      "Requirement already satisfied: numpy in c:\\users\\wmym\\appdata\\roaming\\python\\python312\\site-packages (1.26.3)\n",
      "Note: you may need to restart the kernel to use updated packages.\n"
     ]
    },
    {
     "name": "stderr",
     "output_type": "stream",
     "text": [
      "\n",
      "[notice] A new release of pip is available: 23.3.2 -> 24.0\n",
      "[notice] To update, run: python.exe -m pip install --upgrade pip\n"
     ]
    },
    {
     "name": "stdout",
     "output_type": "stream",
     "text": [
      "Note: you may need to restart the kernel to use updated packages.\n"
     ]
    },
    {
     "name": "stderr",
     "output_type": "stream",
     "text": [
      "\n",
      "[notice] A new release of pip is available: 23.3.2 -> 24.0\n",
      "[notice] To update, run: python.exe -m pip install --upgrade pip\n"
     ]
    },
    {
     "name": "stdout",
     "output_type": "stream",
     "text": [
      "Defaulting to user installation because normal site-packages is not writeable\n",
      "Requirement already satisfied: pygame in c:\\users\\wmym\\appdata\\roaming\\python\\python312\\site-packages (2.5.2)\n",
      "Defaulting to user installation because normal site-packages is not writeable\n",
      "Requirement already satisfied: pandas in c:\\users\\wmym\\appdata\\roaming\\python\\python312\\site-packages (2.2.0)\n",
      "Requirement already satisfied: numpy<2,>=1.26.0 in c:\\users\\wmym\\appdata\\roaming\\python\\python312\\site-packages (from pandas) (1.26.3)\n",
      "Requirement already satisfied: python-dateutil>=2.8.2 in c:\\users\\wmym\\appdata\\roaming\\python\\python312\\site-packages (from pandas) (2.8.2)\n",
      "Requirement already satisfied: pytz>=2020.1 in c:\\users\\wmym\\appdata\\roaming\\python\\python312\\site-packages (from pandas) (2024.1)\n",
      "Requirement already satisfied: tzdata>=2022.7 in c:\\users\\wmym\\appdata\\roaming\\python\\python312\\site-packages (from pandas) (2023.4)\n",
      "Requirement already satisfied: six>=1.5 in c:\\users\\wmym\\appdata\\roaming\\python\\python312\\site-packages (from python-dateutil>=2.8.2->pandas) (1.16.0)\n",
      "Note: you may need to restart the kernel to use updated packages.\n"
     ]
    },
    {
     "name": "stderr",
     "output_type": "stream",
     "text": [
      "\n",
      "[notice] A new release of pip is available: 23.3.2 -> 24.0\n",
      "[notice] To update, run: python.exe -m pip install --upgrade pip\n"
     ]
    },
    {
     "name": "stdout",
     "output_type": "stream",
     "text": [
      "Defaulting to user installation because normal site-packages is not writeable\n",
      "Requirement already satisfied: matplotlib in c:\\users\\wmym\\appdata\\roaming\\python\\python312\\site-packages (3.8.2)\n",
      "Requirement already satisfied: contourpy>=1.0.1 in c:\\users\\wmym\\appdata\\roaming\\python\\python312\\site-packages (from matplotlib) (1.2.0)\n",
      "Requirement already satisfied: cycler>=0.10 in c:\\users\\wmym\\appdata\\roaming\\python\\python312\\site-packages (from matplotlib) (0.12.1)\n",
      "Requirement already satisfied: fonttools>=4.22.0 in c:\\users\\wmym\\appdata\\roaming\\python\\python312\\site-packages (from matplotlib) (4.48.1)\n",
      "Requirement already satisfied: kiwisolver>=1.3.1 in c:\\users\\wmym\\appdata\\roaming\\python\\python312\\site-packages (from matplotlib) (1.4.5)\n",
      "Requirement already satisfied: numpy<2,>=1.21 in c:\\users\\wmym\\appdata\\roaming\\python\\python312\\site-packages (from matplotlib) (1.26.3)\n",
      "Requirement already satisfied: packaging>=20.0 in c:\\users\\wmym\\appdata\\roaming\\python\\python312\\site-packages (from matplotlib) (23.2)\n",
      "Requirement already satisfied: pillow>=8 in c:\\users\\wmym\\appdata\\roaming\\python\\python312\\site-packages (from matplotlib) (10.2.0)\n",
      "Requirement already satisfied: pyparsing>=2.3.1 in c:\\users\\wmym\\appdata\\roaming\\python\\python312\\site-packages (from matplotlib) (3.1.1)\n",
      "Requirement already satisfied: python-dateutil>=2.7 in c:\\users\\wmym\\appdata\\roaming\\python\\python312\\site-packages (from matplotlib) (2.8.2)\n",
      "Requirement already satisfied: six>=1.5 in c:\\users\\wmym\\appdata\\roaming\\python\\python312\\site-packages (from python-dateutil>=2.7->matplotlib) (1.16.0)\n",
      "Note: you may need to restart the kernel to use updated packages.\n"
     ]
    },
    {
     "name": "stderr",
     "output_type": "stream",
     "text": [
      "\n",
      "[notice] A new release of pip is available: 23.3.2 -> 24.0\n",
      "[notice] To update, run: python.exe -m pip install --upgrade pip\n"
     ]
    }
   ],
   "source": [
    "%pip install numpy\n",
    "%pip install pygame\n",
    "%pip install pandas\n",
    "%pip install matplotlib"
   ]
  },
  {
   "cell_type": "markdown",
   "metadata": {},
   "source": [
    "Each one of those modules will be used for the specified objectives in the present\n"
   ]
  },
  {
   "cell_type": "code",
   "execution_count": 8,
   "metadata": {},
   "outputs": [],
   "source": [
    "import numpy as np\n",
    "import pygame as pg\n",
    "import pandas as pd\n",
    "import matplotlib.pyplot as plt\n",
    "import time\n",
    "import os"
   ]
  }
 ],
 "metadata": {
  "kernelspec": {
   "display_name": "Python 3",
   "language": "python",
   "name": "python3"
  },
  "language_info": {
   "codemirror_mode": {
    "name": "ipython",
    "version": 3
   },
   "file_extension": ".py",
   "mimetype": "text/x-python",
   "name": "python",
   "nbconvert_exporter": "python",
   "pygments_lexer": "ipython3",
   "version": "3.12.1"
  }
 },
 "nbformat": 4,
 "nbformat_minor": 2
}
